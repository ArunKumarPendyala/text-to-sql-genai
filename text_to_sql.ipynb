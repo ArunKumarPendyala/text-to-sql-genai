{
 "cells": [
  {
   "cell_type": "code",
   "execution_count": 3,
   "id": "5adffd8a-75b4-46a7-bf9e-902c0305481a",
   "metadata": {},
   "outputs": [],
   "source": [
    "from langchain.utilities import SQLDatabase\n",
    "from langchain.llms import OpenAI\n",
    "from langchain.prompts import PromptTemplate\n",
    "from langchain.chains import create_sql_query_chain\n",
    "from langchain_core.output_parsers import StrOutputParser\n",
    "from langchain_core.runnables import RunnablePassthrough\n",
    "from langchain_google_genai import ChatGoogleGenerativeAI"
   ]
  },
  {
   "cell_type": "code",
   "execution_count": 6,
   "id": "5c114c7e-73ba-4b55-b020-1e9c3a1df1dc",
   "metadata": {},
   "outputs": [],
   "source": [
    "# Connect MySQL database\n",
    "host = 'localhost'\n",
    "port = '3306'\n",
    "username = 'root'\n",
    "password = 'password'\n",
    "database_schema = 'text_to_sql'\n",
    "\n",
    "mysql_uri = f\"mysql+pymysql://{username}:{password}@{host}:{port}/{database_schema}\"\n",
    "\n",
    "db = SQLDatabase.from_uri(mysql_uri, sample_rows_in_table_info=2)"
   ]
  },
  {
   "cell_type": "code",
   "execution_count": 7,
   "id": "c1cf1fd9-d796-4fa7-8273-8a73dd39f6b1",
   "metadata": {},
   "outputs": [
    {
     "data": {
      "text/plain": [
       "'\\nCREATE TABLE `2017_budgets` (\\n\\t`Product_Name` TEXT, \\n\\t`2017_Budgets` DOUBLE\\n)COLLATE utf8mb4_0900_ai_ci ENGINE=InnoDB DEFAULT CHARSET=utf8mb4\\n\\n/*\\n1 rows from 2017_budgets table:\\nProduct_Name\\t2017_Budgets\\nProduct 1\\t3016489.2089999998\\n*/\\n\\n\\nCREATE TABLE customers (\\n\\t`Customer_Index` INTEGER, \\n\\t`Customer_Names` TEXT\\n)COLLATE utf8mb4_0900_ai_ci ENGINE=InnoDB DEFAULT CHARSET=utf8mb4\\n\\n/*\\n1 rows from customers table:\\nCustomer_Index\\tCustomer_Names\\n1\\tGeiss Company\\n*/\\n\\n\\nCREATE TABLE products (\\n\\t`Index` INTEGER, \\n\\t`Product_Name` TEXT\\n)COLLATE utf8mb4_0900_ai_ci ENGINE=InnoDB DEFAULT CHARSET=utf8mb4\\n\\n/*\\n1 rows from products table:\\nIndex\\tProduct_Name\\n1\\tProduct 1\\n*/\\n\\n\\nCREATE TABLE regions (\\n\\tid INTEGER, \\n\\tname TEXT, \\n\\tcounty TEXT, \\n\\tstate_code TEXT, \\n\\tstate TEXT, \\n\\ttype TEXT, \\n\\tlatitude DOUBLE, \\n\\tlongitude DOUBLE, \\n\\tarea_code INTEGER, \\n\\tpopulation INTEGER, \\n\\thouseholds INTEGER, \\n\\tmedian_income INTEGER, \\n\\tland_area INTEGER, \\n\\twater_area INTEGER, \\n\\ttime_zone TEXT\\n)COLLATE utf8mb4_0900_ai_ci ENGINE=InnoDB DEFAULT CHARSET=utf8mb4\\n\\n/*\\n1 rows from regions table:\\nid\\tname\\tcounty\\tstate_code\\tstate\\ttype\\tlatitude\\tlongitude\\tarea_code\\tpopulation\\thouseholds\\tmedian_income\\tland_area\\twater_area\\ttime_zone\\n1\\tAuburn\\tLee County\\tAL\\tAlabama\\tCity\\t32.6098600000\\t-85.4807800000\\t334\\t62059\\t21767\\t38342\\t152375113\\t2646161\\tAmerica/Chicago\\n*/\\n\\n\\nCREATE TABLE sales_order (\\n\\t`OrderNumber` TEXT, \\n\\t`OrderDate` TEXT, \\n\\t`Customer_Name_Index` INTEGER, \\n\\t`Channel` TEXT, \\n\\t`Currency_Code` TEXT, \\n\\t`Warehouse_Code` TEXT, \\n\\t`Delivery_Region_Index` INTEGER, \\n\\t`Product_Description_Index` INTEGER, \\n\\t`Order_Quantity` INTEGER, \\n\\t`Unit_Price` DOUBLE, \\n\\t`Line_Total` DOUBLE, \\n\\t`Total_Unit_Cost` DOUBLE\\n)COLLATE utf8mb4_0900_ai_ci ENGINE=InnoDB DEFAULT CHARSET=utf8mb4\\n\\n/*\\n1 rows from sales_order table:\\nOrderNumber\\tOrderDate\\tCustomer_Name_Index\\tChannel\\tCurrency_Code\\tWarehouse_Code\\tDelivery_Region_Index\\tProduct_Description_Index\\tOrder_Quantity\\tUnit_Price\\tLine_Total\\tTotal_Unit_Cost\\nSO - 000225\\t1/1/21\\t126\\tWholesale\\tUSD\\tAXW291\\t364\\t27\\t6\\t2499.1000000000\\t14994.6000000000\\t1824.3430000000\\n*/\\n\\n\\nCREATE TABLE state_regions (\\n\\t`State_Code` TEXT, \\n\\t`State` TEXT, \\n\\t`Region` TEXT\\n)COLLATE utf8mb4_0900_ai_ci ENGINE=InnoDB DEFAULT CHARSET=utf8mb4\\n\\n/*\\n1 rows from state_regions table:\\nState_Code\\tState\\tRegion\\nAL\\tAlabama\\tSouth\\n*/'"
      ]
     },
     "execution_count": 7,
     "metadata": {},
     "output_type": "execute_result"
    }
   ],
   "source": [
    "db = SQLDatabase.from_uri(mysql_uri, sample_rows_in_table_info=1)\n",
    "\n",
    "db.get_table_info()"
   ]
  },
  {
   "cell_type": "code",
   "execution_count": 8,
   "id": "ed52a775-e6e5-498e-a198-295dd8790281",
   "metadata": {},
   "outputs": [],
   "source": [
    "# Create the LLM Prompt Template\n",
    "from langchain_core.prompts import ChatPromptTemplate\n",
    "\n",
    "template = \"\"\"\n",
    "Based on the table schema below, write a SQL query that would answer the user's question:\n",
    "Remember: Only provide me the sql query dont include anything else. Provide me sql query in a single line dont add line breaks\n",
    "Table Schema: {schema}\n",
    "Question: {question}\n",
    "SQL Query:\n",
    "\"\"\"\n",
    "\n",
    "prompt = ChatPromptTemplate.from_template(template)"
   ]
  },
  {
   "cell_type": "code",
   "execution_count": 9,
   "id": "b12ade51-9f18-408f-8c6e-2bec757eee5b",
   "metadata": {},
   "outputs": [],
   "source": [
    "# get the schema of the database\n",
    "def get_schema(db):\n",
    "    schema = db.get_table_info()\n",
    "    return schema"
   ]
  },
  {
   "cell_type": "code",
   "execution_count": null,
   "id": "8074edce-8005-431c-98bf-1eeed25e5fed",
   "metadata": {},
   "outputs": [
    {
     "name": "stderr",
     "output_type": "stream",
     "text": [
      "E0000 00:00:1759686826.521699 10724683 alts_credentials.cc:93] ALTS creds ignored. Not running on GCP and untrusted ALTS is not enabled.\n"
     ]
    }
   ],
   "source": [
    "llm = ChatGoogleGenerativeAI(\n",
    "    model = 'gemini-2.0-flash',\n",
    "    api_key = 'XYZ'\n",
    ")"
   ]
  },
  {
   "cell_type": "code",
   "execution_count": 15,
   "id": "91f0a2d8-bfa0-49f0-9537-3ebe1d4eb11c",
   "metadata": {},
   "outputs": [],
   "source": [
    "# Create the SQL query chain using the LLM and the prompt template\n",
    "sql_chain = (\n",
    "    RunnablePassthrough.assign(schema=lambda _:get_schema(db))\n",
    "    | prompt\n",
    "    | llm.bind(stop = [\"\\nSQLResult:\"])\n",
    "    | StrOutputParser()\n",
    ")"
   ]
  },
  {
   "cell_type": "code",
   "execution_count": 20,
   "id": "0b457ee8-6d12-40a8-b9a4-7d23946cf1d3",
   "metadata": {},
   "outputs": [
    {
     "name": "stdout",
     "output_type": "stream",
     "text": [
      "```sql\n",
      "SELECT sum(T1.Line_Total) FROM sales_order AS T1 INNER JOIN customers AS T2 ON T1.Customer_Name_Index = T2.Customer_Index WHERE T2.Customer_Names = \"Geiss Company\"\n",
      "```\n"
     ]
    }
   ],
   "source": [
    "# test the SQL query chain with a sample question\n",
    "resp = sql_chain.invoke({\"question\": \"What is the total 'Line Total' for Geiss Company\"})\n",
    "print(resp)"
   ]
  },
  {
   "cell_type": "code",
   "execution_count": 24,
   "id": "f5013402-b583-4d47-b5bf-d247fa2f9e13",
   "metadata": {},
   "outputs": [
    {
     "name": "stdout",
     "output_type": "stream",
     "text": [
      "SELECT sum(T1.Line_Total) FROM sales_order AS T1 INNER JOIN customers AS T2 ON T1.Customer_Name_Index = T2.Customer_Index WHERE T2.Customer_Names = \"Geiss Company\"\n"
     ]
    }
   ],
   "source": [
    "import re\n",
    "match = re.search(r\"```sql\\s*(.*?)\\s*```\", resp, re.DOTALL | re.IGNORECASE)\n",
    "if match:\n",
    "    query = match.group(1).strip()\n",
    "    print(query)\n",
    "else:\n",
    "    print(\"No SQL query found in response.\")"
   ]
  },
  {
   "cell_type": "code",
   "execution_count": 25,
   "id": "f2feb848-d5f8-4eeb-8e03-eee13b354769",
   "metadata": {},
   "outputs": [
    {
     "name": "stdout",
     "output_type": "stream",
     "text": [
      "[(5516846.999999994,)]\n"
     ]
    }
   ],
   "source": [
    "result = db.run(query)\n",
    "print(result)"
   ]
  },
  {
   "cell_type": "code",
   "execution_count": null,
   "id": "0f1c8683-deb8-40ee-b2b0-c5b42d915e5a",
   "metadata": {},
   "outputs": [],
   "source": []
  }
 ],
 "metadata": {
  "kernelspec": {
   "display_name": "Python 3 (ipykernel)",
   "language": "python",
   "name": "python3"
  },
  "language_info": {
   "codemirror_mode": {
    "name": "ipython",
    "version": 3
   },
   "file_extension": ".py",
   "mimetype": "text/x-python",
   "name": "python",
   "nbconvert_exporter": "python",
   "pygments_lexer": "ipython3",
   "version": "3.13.5"
  }
 },
 "nbformat": 4,
 "nbformat_minor": 5
}
